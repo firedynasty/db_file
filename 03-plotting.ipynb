{
 "cells": [
  {
   "cell_type": "code",
   "execution_count": 1,
   "id": "3c2f0c95",
   "metadata": {},
   "outputs": [
    {
     "name": "stdout",
     "output_type": "stream",
     "text": [
      "Tables in the database: ['Stocks', 'sqlite_sequence', 'StockPrices', 'economics_cpi']\n",
      "\n",
      "Schema of table Stocks:\n",
      "(0, 'stock_id', 'INTEGER', 0, None, 1)\n",
      "(1, 'symbol', 'TEXT', 1, None, 0)\n",
      "(2, 'company_name', 'TEXT', 0, None, 0)\n",
      "(3, 'sector', 'TEXT', 0, None, 0)\n",
      "(4, 'industry', 'TEXT', 0, None, 0)\n",
      "\n",
      "Schema of table sqlite_sequence:\n",
      "(0, 'name', '', 0, None, 0)\n",
      "(1, 'seq', '', 0, None, 0)\n",
      "\n",
      "Schema of table StockPrices:\n",
      "(0, 'price_id', 'INTEGER', 0, None, 1)\n",
      "(1, 'stock_id', 'INTEGER', 0, None, 0)\n",
      "(2, 'date', 'DATE', 0, None, 0)\n",
      "(3, 'open', 'REAL', 0, None, 0)\n",
      "(4, 'high', 'REAL', 0, None, 0)\n",
      "(5, 'low', 'REAL', 0, None, 0)\n",
      "(6, 'close', 'REAL', 0, None, 0)\n",
      "(7, 'volume', 'INTEGER', 0, None, 0)\n",
      "\n",
      "Schema of table economics_cpi:\n",
      "(0, 'id', 'INTEGER', 0, None, 1)\n",
      "(1, 'date', 'TEXT', 1, None, 0)\n",
      "(2, 'value', 'REAL', 1, None, 0)\n"
     ]
    }
   ],
   "source": [
    "import pandas as pd\n",
    "import sqlite3\n",
    "# Step 2: Connect to SQLite database named 'finance.db'\n",
    "conn = sqlite3.connect('finance1.db')\n",
    "# Step 3: Create a cursor object\n",
    "cursor = conn.cursor()\n",
    "# Step 4: Execute a query to get a list of all tables\n",
    "cursor.execute(\"SELECT name FROM sqlite_master WHERE type='table';\")\n",
    "# Step 5: Fetch all table names from the executed query\n",
    "tables = cursor.fetchall()\n",
    "# Step 6: Print the table names\n",
    "table_names = [table[0] for table in tables]\n",
    "print(\"Tables in the database:\", table_names)\n",
    "# Optional: Loop through each table and print its schema\n",
    "for table in table_names:\n",
    "    cursor.execute(f\"PRAGMA table_info({table});\")\n",
    "    schema = cursor.fetchall()\n",
    "    print(f\"\\nSchema of table {table}:\")\n",
    "    for column in schema:\n",
    "        print(column)\n",
    "# Close the connection\n",
    "conn.close()"
   ]
  },
  {
   "cell_type": "code",
   "execution_count": 11,
   "id": "2b1b0659",
   "metadata": {},
   "outputs": [],
   "source": [
    "import pandas as pd\n",
    "import sqlite3\n",
    "\n",
    "# Step 2: Connect to SQLite database named 'library.db'\n",
    "conn = sqlite3.connect('finance1.db')\n",
    "\n",
    "# Step 3: Create a cursor object\n",
    "cursor = conn.cursor()\n",
    "\n",
    "cursor.execute('''\n",
    "    SELECT * FROM StockPrices\n",
    "''')\n",
    "\n",
    "# Step 5: Fetch all rows from the executed query\n",
    "rows = cursor.fetchall()\n",
    "\n",
    "# Step 6: Get the field names\n",
    "field_names = [description[0] for description in cursor.description]\n",
    "\n",
    "# Step 7: Print the field names\n",
    "stockprices_df = pd.DataFrame(rows, columns=field_names)\n",
    "\n",
    "\n",
    "cursor.execute('''\n",
    "    SELECT * FROM Stocks\n",
    "''')\n",
    "\n",
    "# Step 5: Fetch all rows from the executed query\n",
    "rows = cursor.fetchall()\n",
    "\n",
    "# Step 6: Get the field names\n",
    "field_names = [description[0] for description in cursor.description]\n",
    "\n",
    "stocknames_df = pd.DataFrame(rows, columns=field_names)\n",
    "\n",
    "\n",
    "# Step 9: Close the connection\n",
    "conn.close()\n"
   ]
  },
  {
   "cell_type": "code",
   "execution_count": 12,
   "id": "441c90ae",
   "metadata": {
    "scrolled": true
   },
   "outputs": [],
   "source": [
    "merged_df = pd.merge(stockprices_df, stocknames_df, on='stock_id')\n"
   ]
  },
  {
   "cell_type": "code",
   "execution_count": 13,
   "id": "0bd17c1a",
   "metadata": {},
   "outputs": [
    {
     "data": {
      "text/html": [
       "<div>\n",
       "<style scoped>\n",
       "    .dataframe tbody tr th:only-of-type {\n",
       "        vertical-align: middle;\n",
       "    }\n",
       "\n",
       "    .dataframe tbody tr th {\n",
       "        vertical-align: top;\n",
       "    }\n",
       "\n",
       "    .dataframe thead th {\n",
       "        text-align: right;\n",
       "    }\n",
       "</style>\n",
       "<table border=\"1\" class=\"dataframe\">\n",
       "  <thead>\n",
       "    <tr style=\"text-align: right;\">\n",
       "      <th></th>\n",
       "      <th>price_id</th>\n",
       "      <th>stock_id</th>\n",
       "      <th>date</th>\n",
       "      <th>open</th>\n",
       "      <th>high</th>\n",
       "      <th>low</th>\n",
       "      <th>close</th>\n",
       "      <th>volume</th>\n",
       "      <th>symbol</th>\n",
       "      <th>company_name</th>\n",
       "      <th>sector</th>\n",
       "      <th>industry</th>\n",
       "    </tr>\n",
       "  </thead>\n",
       "  <tbody>\n",
       "    <tr>\n",
       "      <th>0</th>\n",
       "      <td>1</td>\n",
       "      <td>1</td>\n",
       "      <td>2024-07-16</td>\n",
       "      <td>128.44</td>\n",
       "      <td>129.04</td>\n",
       "      <td>124.58</td>\n",
       "      <td>126.36</td>\n",
       "      <td>208957902</td>\n",
       "      <td>NVDA</td>\n",
       "      <td>NVIDIA Corporation</td>\n",
       "      <td>Technology</td>\n",
       "      <td>Semiconductors</td>\n",
       "    </tr>\n",
       "    <tr>\n",
       "      <th>1</th>\n",
       "      <td>2</td>\n",
       "      <td>1</td>\n",
       "      <td>2024-07-15</td>\n",
       "      <td>130.56</td>\n",
       "      <td>131.39</td>\n",
       "      <td>127.18</td>\n",
       "      <td>128.44</td>\n",
       "      <td>208326164</td>\n",
       "      <td>NVDA</td>\n",
       "      <td>NVIDIA Corporation</td>\n",
       "      <td>Technology</td>\n",
       "      <td>Semiconductors</td>\n",
       "    </tr>\n",
       "    <tr>\n",
       "      <th>2</th>\n",
       "      <td>3</td>\n",
       "      <td>1</td>\n",
       "      <td>2024-07-12</td>\n",
       "      <td>128.26</td>\n",
       "      <td>131.92</td>\n",
       "      <td>127.22</td>\n",
       "      <td>129.24</td>\n",
       "      <td>252680535</td>\n",
       "      <td>NVDA</td>\n",
       "      <td>NVIDIA Corporation</td>\n",
       "      <td>Technology</td>\n",
       "      <td>Semiconductors</td>\n",
       "    </tr>\n",
       "    <tr>\n",
       "      <th>3</th>\n",
       "      <td>4</td>\n",
       "      <td>1</td>\n",
       "      <td>2024-07-11</td>\n",
       "      <td>135.75</td>\n",
       "      <td>136.15</td>\n",
       "      <td>127.05</td>\n",
       "      <td>127.40</td>\n",
       "      <td>374782738</td>\n",
       "      <td>NVDA</td>\n",
       "      <td>NVIDIA Corporation</td>\n",
       "      <td>Technology</td>\n",
       "      <td>Semiconductors</td>\n",
       "    </tr>\n",
       "    <tr>\n",
       "      <th>4</th>\n",
       "      <td>5</td>\n",
       "      <td>1</td>\n",
       "      <td>2024-07-10</td>\n",
       "      <td>134.03</td>\n",
       "      <td>135.10</td>\n",
       "      <td>132.42</td>\n",
       "      <td>134.91</td>\n",
       "      <td>248978569</td>\n",
       "      <td>NVDA</td>\n",
       "      <td>NVIDIA Corporation</td>\n",
       "      <td>Technology</td>\n",
       "      <td>Semiconductors</td>\n",
       "    </tr>\n",
       "  </tbody>\n",
       "</table>\n",
       "</div>"
      ],
      "text/plain": [
       "   price_id  stock_id        date    open    high     low   close     volume  \\\n",
       "0         1         1  2024-07-16  128.44  129.04  124.58  126.36  208957902   \n",
       "1         2         1  2024-07-15  130.56  131.39  127.18  128.44  208326164   \n",
       "2         3         1  2024-07-12  128.26  131.92  127.22  129.24  252680535   \n",
       "3         4         1  2024-07-11  135.75  136.15  127.05  127.40  374782738   \n",
       "4         5         1  2024-07-10  134.03  135.10  132.42  134.91  248978569   \n",
       "\n",
       "  symbol        company_name      sector        industry  \n",
       "0   NVDA  NVIDIA Corporation  Technology  Semiconductors  \n",
       "1   NVDA  NVIDIA Corporation  Technology  Semiconductors  \n",
       "2   NVDA  NVIDIA Corporation  Technology  Semiconductors  \n",
       "3   NVDA  NVIDIA Corporation  Technology  Semiconductors  \n",
       "4   NVDA  NVIDIA Corporation  Technology  Semiconductors  "
      ]
     },
     "execution_count": 13,
     "metadata": {},
     "output_type": "execute_result"
    }
   ],
   "source": [
    "merged_df.head()"
   ]
  },
  {
   "cell_type": "code",
   "execution_count": 14,
   "id": "5c835341",
   "metadata": {},
   "outputs": [],
   "source": [
    "merged_df = merged_df[['date','close', 'symbol']]"
   ]
  },
  {
   "cell_type": "code",
   "execution_count": 15,
   "id": "f40d977f",
   "metadata": {},
   "outputs": [],
   "source": [
    "merged_df.to_csv('merged_df_prices.csv', index=False)"
   ]
  },
  {
   "cell_type": "code",
   "execution_count": 10,
   "id": "f213b131",
   "metadata": {},
   "outputs": [
    {
     "data": {
      "text/plain": [
       "array(['NVDA', 'TSLA', 'AAPL', 'MSFT'], dtype=object)"
      ]
     },
     "execution_count": 10,
     "metadata": {},
     "output_type": "execute_result"
    }
   ],
   "source": [
    "merged_df['symbol'].unique()"
   ]
  },
  {
   "cell_type": "code",
   "execution_count": null,
   "id": "dc3e0809",
   "metadata": {},
   "outputs": [],
   "source": []
  }
 ],
 "metadata": {
  "kernelspec": {
   "display_name": "Python 3 (ipykernel)",
   "language": "python",
   "name": "python3"
  },
  "language_info": {
   "codemirror_mode": {
    "name": "ipython",
    "version": 3
   },
   "file_extension": ".py",
   "mimetype": "text/x-python",
   "name": "python",
   "nbconvert_exporter": "python",
   "pygments_lexer": "ipython3",
   "version": "3.11.5"
  }
 },
 "nbformat": 4,
 "nbformat_minor": 5
}
