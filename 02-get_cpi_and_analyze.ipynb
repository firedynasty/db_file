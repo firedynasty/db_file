{
 "cells": [
  {
   "cell_type": "code",
   "execution_count": 11,
   "id": "320a88d8",
   "metadata": {},
   "outputs": [],
   "source": [
    "import requests\n",
    "import json\n",
    "import sqlite3\n",
    "from datetime import datetime\n",
    "\n",
    "# Function to fetch CPI data from BLS API\n",
    "def fetch_cpi_data(series_ids, start_year, end_year, api_key=None):\n",
    "    url = 'https://api.bls.gov/publicAPI/v2/timeseries/data/'\n",
    "    headers = {'Content-type': 'application/json'}\n",
    "    data = json.dumps({\n",
    "        \"seriesid\": series_ids,\n",
    "        \"startyear\": start_year,\n",
    "        \"endyear\": end_year\n",
    "    })\n",
    "    \n",
    "    try:\n",
    "        response = requests.post(url, data=data, headers=headers)\n",
    "        response.raise_for_status()\n",
    "        json_data = response.json()\n",
    "        if 'Results' in json_data and 'series' in json_data['Results']:\n",
    "            return json_data['Results']['series']\n",
    "        else:\n",
    "            print(\"No results found in the response.\")\n",
    "            return None\n",
    "    except requests.exceptions.RequestException as e:\n",
    "        print(f\"Request failed: {e}\")\n",
    "        return None\n",
    "    except json.JSONDecodeError as e:\n",
    "        print(f\"Failed to parse JSON: {e}\")\n",
    "        return None\n",
    "\n",
    "# Function to process the data and return it in the desired format\n",
    "def process_data(series_data):\n",
    "    time_series = {}\n",
    "    for series in series_data:\n",
    "        for item in series['data']:\n",
    "            year = int(item['year'])\n",
    "            period = item['period']\n",
    "            value = item['value']\n",
    "            \n",
    "            if period.startswith('M'):\n",
    "                month = int(period[1:])\n",
    "                date_str = f\"{year}-{month:02d}\"  # Assuming the data is for the 1st day of each month\n",
    "                time_series[date_str] = {\"value\": value}\n",
    "    return time_series\n",
    "\n",
    "# Function to create and insert CPI data into the database\n",
    "def insert_cpi_data(time_series):\n",
    "    conn = sqlite3.connect('finance1.db')\n",
    "    cursor = conn.cursor()\n",
    "    \n",
    "    # Create the economics_cpi table if it does not exist\n",
    "    cursor.execute('''\n",
    "    CREATE TABLE IF NOT EXISTS economics_cpi (\n",
    "        id INTEGER PRIMARY KEY AUTOINCREMENT,\n",
    "        date TEXT UNIQUE NOT NULL,\n",
    "        value REAL NOT NULL\n",
    "    )\n",
    "    ''')\n",
    "    \n",
    "    # Insert the CPI data into the table\n",
    "    for date, data in time_series.items():\n",
    "        try:\n",
    "            cursor.execute('''\n",
    "            INSERT INTO economics_cpi (date, value)\n",
    "            VALUES (?, ?)\n",
    "            ''', (date, data['value']))\n",
    "        except sqlite3.IntegrityError:\n",
    "            # Duplicate entry detected, skipping insertion\n",
    "            pass\n",
    "    \n",
    "    conn.commit()\n",
    "    conn.close()\n",
    "\n",
    "# Main function\n",
    "def main():\n",
    "    api_key = 'my_key'  # Optional: Add your API key here\n",
    "    series_ids = ['CUUR0000SA0']  # Add more series IDs as needed\n",
    "    start_year = '2024'\n",
    "    end_year = '2024'\n",
    "    \n",
    "    # Fetch and process CPI data\n",
    "    series_data = fetch_cpi_data(series_ids, start_year, end_year, api_key)\n",
    "    if series_data:\n",
    "        time_series = process_data(series_data)\n",
    "        insert_cpi_data(time_series)\n",
    "\n",
    "if __name__ == \"__main__\":\n",
    "    main()"
   ]
  },
  {
   "cell_type": "code",
   "execution_count": 1,
   "id": "35eeeaf7",
   "metadata": {},
   "outputs": [],
   "source": [
    "\n",
    "import pandas as pd\n",
    "import sqlite3\n",
    "\n",
    "# Step 2: Connect to SQLite database named 'library.db'\n",
    "conn = sqlite3.connect('finance1.db')\n",
    "\n",
    "# Step 3: Create a cursor object\n",
    "cursor = conn.cursor()\n",
    "\n",
    "cursor.execute('''\n",
    "    SELECT * FROM economics_cpi\n",
    "''')\n",
    "\n",
    "\n",
    "# Step 5: Fetch all rows from the executed query\n",
    "rows = cursor.fetchall()\n",
    "\n",
    "# Step 6: Get the field names\n",
    "field_names = [description[0] for description in cursor.description]\n",
    "\n",
    "# Step 7: Print the field names\n",
    "df = pd.DataFrame(rows, columns=field_names)\n",
    "\n",
    "# Step 9: Close the connection\n",
    "conn.close()\n"
   ]
  },
  {
   "cell_type": "code",
   "execution_count": 2,
   "id": "e7f90a2d",
   "metadata": {},
   "outputs": [],
   "source": [
    "import pandas as pd\n",
    "import sqlite3\n",
    "\n",
    "# Step 2: Connect to SQLite database named 'library.db'\n",
    "conn = sqlite3.connect('finance1.db')\n",
    "\n",
    "# Step 3: Create a cursor object\n",
    "cursor = conn.cursor()\n",
    "\n",
    "cursor.execute('''\n",
    "    SELECT * FROM Stocks\n",
    "''')\n",
    "\n",
    "# Step 5: Fetch all rows from the executed query\n",
    "rows = cursor.fetchall()\n",
    "\n",
    "# Step 6: Get the field names\n",
    "field_names = [description[0] for description in cursor.description]\n",
    "\n",
    "# Step 7: Print the field names\n",
    "stocknames_df = pd.DataFrame(rows, columns=field_names)\n",
    "\n",
    "#stocknames_df = stocknames_df[['stock_id','symbol']]\n",
    "\n",
    "cursor.execute('''\n",
    "    SELECT * FROM StockPrices\n",
    "''')\n",
    "\n",
    "# Step 5: Fetch all rows from the executed query\n",
    "rows = cursor.fetchall()\n",
    "\n",
    "# Step 6: Get the field names\n",
    "field_names = [description[0] for description in cursor.description]\n",
    "\n",
    "# Step 7: Print the field names\n",
    "stockprices_df = pd.DataFrame(rows, columns=field_names)\n",
    "\n",
    "# Step 9: Close the connection\n",
    "conn.close()\n"
   ]
  },
  {
   "cell_type": "code",
   "execution_count": 3,
   "id": "72b0d986",
   "metadata": {},
   "outputs": [],
   "source": [
    "# Merge the two DataFrames on 'stock_id'\n",
    "merged_df = pd.merge(stockprices_df, stocknames_df, on='stock_id')"
   ]
  },
  {
   "cell_type": "code",
   "execution_count": 4,
   "id": "a45eb1bb",
   "metadata": {},
   "outputs": [],
   "source": [
    "merged_df = merged_df[['date', 'close', 'volume', 'symbol']]"
   ]
  },
  {
   "cell_type": "code",
   "execution_count": 5,
   "id": "ce44d40a",
   "metadata": {},
   "outputs": [],
   "source": [
    "import pandas as pd\n",
    "import sqlite3\n",
    "\n",
    "# Step 2: Connect to SQLite database named 'library.db'\n",
    "conn = sqlite3.connect('finance1.db')\n",
    "\n",
    "# Step 3: Create a cursor object\n",
    "cursor = conn.cursor()\n",
    "\n",
    "cursor.execute('''\n",
    "    SELECT * FROM economics_cpi\n",
    "''')\n",
    "\n",
    "# Step 5: Fetch all rows from the executed query\n",
    "rows = cursor.fetchall()\n",
    "\n",
    "# Step 6: Get the field names\n",
    "field_names = [description[0] for description in cursor.description]\n",
    "\n",
    "# Step 7: Print the field names\n",
    "economics_cpi_df = pd.DataFrame(rows, columns=field_names)\n",
    "\n",
    "# Step 9: Close the connection\n",
    "conn.close()\n"
   ]
  },
  {
   "cell_type": "code",
   "execution_count": 6,
   "id": "657dfba6",
   "metadata": {},
   "outputs": [],
   "source": [
    "economics_cpi_df['date'] = pd.to_datetime(economics_cpi_df['date'])\n",
    "# Extract year and month from the date columns\n",
    "economics_cpi_df['year'] = economics_cpi_df['date'].dt.year\n",
    "economics_cpi_df['month'] = economics_cpi_df['date'].dt.month"
   ]
  },
  {
   "cell_type": "code",
   "execution_count": 7,
   "id": "162c4993",
   "metadata": {},
   "outputs": [],
   "source": [
    "merged_df['date'] = pd.to_datetime(merged_df['date'])\n",
    "merged_df['year'] = merged_df['date'].dt.year\n",
    "merged_df['month'] = merged_df['date'].dt.month"
   ]
  },
  {
   "cell_type": "code",
   "execution_count": 8,
   "id": "027d2d84",
   "metadata": {},
   "outputs": [],
   "source": [
    "merged_data_with_cpi = pd.merge(merged_df, economics_cpi_df, on=['year', 'month'], how='left')\n"
   ]
  },
  {
   "cell_type": "code",
   "execution_count": 9,
   "id": "abf0fbe2",
   "metadata": {},
   "outputs": [],
   "source": [
    "merged_data_with_cpi = merged_data_with_cpi.dropna()"
   ]
  },
  {
   "cell_type": "code",
   "execution_count": 10,
   "id": "1c9696ef",
   "metadata": {},
   "outputs": [],
   "source": [
    "merged_data_with_cpi = merged_data_with_cpi[['date_x', 'close', 'volume', 'symbol', 'value']]"
   ]
  },
  {
   "cell_type": "code",
   "execution_count": 11,
   "id": "dfd10b18",
   "metadata": {},
   "outputs": [],
   "source": [
    "#df.rename(columns={'close': 'stock_price'}, inplace=True)\n",
    "merged_data_with_cpi.rename(columns={'close': 'stock_price'}, inplace=True)\n",
    "merged_data_with_cpi.rename(columns={'value': 'cpi_value'}, inplace=True)"
   ]
  },
  {
   "cell_type": "code",
   "execution_count": null,
   "id": "d83204f2",
   "metadata": {},
   "outputs": [],
   "source": [
    "tsla_rows = df[df['symbol'] == 'TSLA']\n",
    "\n",
    "merged_data_with_cpi \n",
    "tsla_r"
   ]
  },
  {
   "cell_type": "code",
   "execution_count": 12,
   "id": "250e2476",
   "metadata": {},
   "outputs": [],
   "source": [
    "tsla_rows = merged_data_with_cpi[merged_data_with_cpi['symbol'] == 'TSLA']"
   ]
  },
  {
   "cell_type": "code",
   "execution_count": 14,
   "id": "da044bea",
   "metadata": {},
   "outputs": [],
   "source": [
    "tsla_rows.to_csv('tsla_rows.csv', index=False)"
   ]
  },
  {
   "cell_type": "code",
   "execution_count": 15,
   "id": "2c75d871",
   "metadata": {},
   "outputs": [
    {
     "data": {
      "text/html": [
       "<div>\n",
       "<style scoped>\n",
       "    .dataframe tbody tr th:only-of-type {\n",
       "        vertical-align: middle;\n",
       "    }\n",
       "\n",
       "    .dataframe tbody tr th {\n",
       "        vertical-align: top;\n",
       "    }\n",
       "\n",
       "    .dataframe thead th {\n",
       "        text-align: right;\n",
       "    }\n",
       "</style>\n",
       "<table border=\"1\" class=\"dataframe\">\n",
       "  <thead>\n",
       "    <tr style=\"text-align: right;\">\n",
       "      <th></th>\n",
       "      <th>date_x</th>\n",
       "      <th>stock_price</th>\n",
       "      <th>volume</th>\n",
       "      <th>symbol</th>\n",
       "      <th>cpi_value</th>\n",
       "    </tr>\n",
       "  </thead>\n",
       "  <tbody>\n",
       "    <tr>\n",
       "      <th>111</th>\n",
       "      <td>2024-06-28</td>\n",
       "      <td>197.88</td>\n",
       "      <td>95438068</td>\n",
       "      <td>TSLA</td>\n",
       "      <td>314.175</td>\n",
       "    </tr>\n",
       "    <tr>\n",
       "      <th>112</th>\n",
       "      <td>2024-06-27</td>\n",
       "      <td>197.42</td>\n",
       "      <td>72746521</td>\n",
       "      <td>TSLA</td>\n",
       "      <td>314.175</td>\n",
       "    </tr>\n",
       "    <tr>\n",
       "      <th>113</th>\n",
       "      <td>2024-06-26</td>\n",
       "      <td>196.37</td>\n",
       "      <td>95737066</td>\n",
       "      <td>TSLA</td>\n",
       "      <td>314.175</td>\n",
       "    </tr>\n",
       "    <tr>\n",
       "      <th>114</th>\n",
       "      <td>2024-06-25</td>\n",
       "      <td>187.35</td>\n",
       "      <td>63678265</td>\n",
       "      <td>TSLA</td>\n",
       "      <td>314.175</td>\n",
       "    </tr>\n",
       "    <tr>\n",
       "      <th>115</th>\n",
       "      <td>2024-06-24</td>\n",
       "      <td>182.58</td>\n",
       "      <td>61992070</td>\n",
       "      <td>TSLA</td>\n",
       "      <td>314.175</td>\n",
       "    </tr>\n",
       "    <tr>\n",
       "      <th>...</th>\n",
       "      <td>...</td>\n",
       "      <td>...</td>\n",
       "      <td>...</td>\n",
       "      <td>...</td>\n",
       "      <td>...</td>\n",
       "    </tr>\n",
       "    <tr>\n",
       "      <th>195</th>\n",
       "      <td>2024-02-28</td>\n",
       "      <td>202.04</td>\n",
       "      <td>99806173</td>\n",
       "      <td>TSLA</td>\n",
       "      <td>310.326</td>\n",
       "    </tr>\n",
       "    <tr>\n",
       "      <th>196</th>\n",
       "      <td>2024-02-27</td>\n",
       "      <td>199.73</td>\n",
       "      <td>108645412</td>\n",
       "      <td>TSLA</td>\n",
       "      <td>310.326</td>\n",
       "    </tr>\n",
       "    <tr>\n",
       "      <th>197</th>\n",
       "      <td>2024-02-26</td>\n",
       "      <td>199.40</td>\n",
       "      <td>111747116</td>\n",
       "      <td>TSLA</td>\n",
       "      <td>310.326</td>\n",
       "    </tr>\n",
       "    <tr>\n",
       "      <th>198</th>\n",
       "      <td>2024-02-23</td>\n",
       "      <td>191.97</td>\n",
       "      <td>78841917</td>\n",
       "      <td>TSLA</td>\n",
       "      <td>310.326</td>\n",
       "    </tr>\n",
       "    <tr>\n",
       "      <th>199</th>\n",
       "      <td>2024-02-22</td>\n",
       "      <td>197.41</td>\n",
       "      <td>92739461</td>\n",
       "      <td>TSLA</td>\n",
       "      <td>310.326</td>\n",
       "    </tr>\n",
       "  </tbody>\n",
       "</table>\n",
       "<p>89 rows × 5 columns</p>\n",
       "</div>"
      ],
      "text/plain": [
       "        date_x  stock_price     volume symbol  cpi_value\n",
       "111 2024-06-28       197.88   95438068   TSLA    314.175\n",
       "112 2024-06-27       197.42   72746521   TSLA    314.175\n",
       "113 2024-06-26       196.37   95737066   TSLA    314.175\n",
       "114 2024-06-25       187.35   63678265   TSLA    314.175\n",
       "115 2024-06-24       182.58   61992070   TSLA    314.175\n",
       "..         ...          ...        ...    ...        ...\n",
       "195 2024-02-28       202.04   99806173   TSLA    310.326\n",
       "196 2024-02-27       199.73  108645412   TSLA    310.326\n",
       "197 2024-02-26       199.40  111747116   TSLA    310.326\n",
       "198 2024-02-23       191.97   78841917   TSLA    310.326\n",
       "199 2024-02-22       197.41   92739461   TSLA    310.326\n",
       "\n",
       "[89 rows x 5 columns]"
      ]
     },
     "execution_count": 15,
     "metadata": {},
     "output_type": "execute_result"
    }
   ],
   "source": [
    "tsla_rows"
   ]
  },
  {
   "cell_type": "code",
   "execution_count": 18,
   "id": "bb078f7d",
   "metadata": {},
   "outputs": [
    {
     "data": {
      "text/html": [
       "<div>\n",
       "<style scoped>\n",
       "    .dataframe tbody tr th:only-of-type {\n",
       "        vertical-align: middle;\n",
       "    }\n",
       "\n",
       "    .dataframe tbody tr th {\n",
       "        vertical-align: top;\n",
       "    }\n",
       "\n",
       "    .dataframe thead th {\n",
       "        text-align: right;\n",
       "    }\n",
       "</style>\n",
       "<table border=\"1\" class=\"dataframe\">\n",
       "  <thead>\n",
       "    <tr style=\"text-align: right;\">\n",
       "      <th></th>\n",
       "      <th>stock_price</th>\n",
       "      <th>cpi_value</th>\n",
       "    </tr>\n",
       "  </thead>\n",
       "  <tbody>\n",
       "    <tr>\n",
       "      <th>stock_price</th>\n",
       "      <td>1.000000</td>\n",
       "      <td>-0.304725</td>\n",
       "    </tr>\n",
       "    <tr>\n",
       "      <th>cpi_value</th>\n",
       "      <td>-0.304725</td>\n",
       "      <td>1.000000</td>\n",
       "    </tr>\n",
       "  </tbody>\n",
       "</table>\n",
       "</div>"
      ],
      "text/plain": [
       "             stock_price  cpi_value\n",
       "stock_price     1.000000  -0.304725\n",
       "cpi_value      -0.304725   1.000000"
      ]
     },
     "execution_count": 18,
     "metadata": {},
     "output_type": "execute_result"
    }
   ],
   "source": [
    "\n",
    "def calculate_correlation(merged_data_with_cpi, symbol):\n",
    "    \"\"\"\n",
    "    Calculate the correlation between 'close' and 'value' columns for a given symbol.\n",
    "    \n",
    "    Parameters:\n",
    "    merged_data_with_cpi (pd.DataFrame): The DataFrame containing the data.\n",
    "    symbol (str): The symbol to filter the DataFrame.\n",
    "    \n",
    "    Returns:\n",
    "    pd.DataFrame: The correlation matrix between 'close' and 'value' columns.\n",
    "    \"\"\"\n",
    "    # Filter the DataFrame for the given symbol\n",
    "    symbol_df = merged_data_with_cpi[merged_data_with_cpi['symbol'] == symbol]\n",
    "    \n",
    "    # Calculate the correlation between 'close' and 'value' columns\n",
    "    correlation = symbol_df[['stock_price', 'cpi_value']].corr()\n",
    "    \n",
    "    return correlation\n",
    "\n",
    "# Example usage\n",
    "# merged_data_with_cpi is your DataFrame\n",
    "# symbol is the stock symbol you are interested in, e.g., 'TSLA'\n",
    "correlation_data = calculate_correlation(merged_data_with_cpi, 'TSLA')\n",
    "correlation_data"
   ]
  },
  {
   "cell_type": "code",
   "execution_count": 38,
   "id": "97d14bfa",
   "metadata": {},
   "outputs": [],
   "source": [
    "symbols = ['AAPL', 'MSFT', 'TSLA', 'NVDA']  # Example stock symbols"
   ]
  },
  {
   "cell_type": "code",
   "execution_count": 39,
   "id": "08b69195",
   "metadata": {},
   "outputs": [],
   "source": [
    "import pandas as pd\n",
    "correlation_df = pd.DataFrame(columns=['Symbol', 'Correlation'])"
   ]
  },
  {
   "cell_type": "code",
   "execution_count": 40,
   "id": "8619c2fe",
   "metadata": {},
   "outputs": [
    {
     "data": {
      "text/html": [
       "<div>\n",
       "<style scoped>\n",
       "    .dataframe tbody tr th:only-of-type {\n",
       "        vertical-align: middle;\n",
       "    }\n",
       "\n",
       "    .dataframe tbody tr th {\n",
       "        vertical-align: top;\n",
       "    }\n",
       "\n",
       "    .dataframe thead th {\n",
       "        text-align: right;\n",
       "    }\n",
       "</style>\n",
       "<table border=\"1\" class=\"dataframe\">\n",
       "  <thead>\n",
       "    <tr style=\"text-align: right;\">\n",
       "      <th></th>\n",
       "      <th>Symbol</th>\n",
       "      <th>Correlation</th>\n",
       "    </tr>\n",
       "  </thead>\n",
       "  <tbody>\n",
       "  </tbody>\n",
       "</table>\n",
       "</div>"
      ],
      "text/plain": [
       "Empty DataFrame\n",
       "Columns: [Symbol, Correlation]\n",
       "Index: []"
      ]
     },
     "execution_count": 40,
     "metadata": {},
     "output_type": "execute_result"
    }
   ],
   "source": []
  },
  {
   "cell_type": "code",
   "execution_count": 48,
   "id": "cdf3fec9",
   "metadata": {},
   "outputs": [],
   "source": [
    "import pandas as pd\n",
    "correlation_df = pd.DataFrame(columns=['Symbol', 'Correlation'])\n",
    "for symbol in symbols: \n",
    "    correlation_data = calculate_correlation(merged_data_with_cpi, symbol)\n",
    "    new_row = {'Symbol': symbol,  'Correlation': correlation_data.iloc[0, 1]}\n",
    "    new_row_df = pd.DataFrame([new_row])\n",
    "    correlation_df = pd.concat([correlation_df, new_row_df], ignore_index=True)\n",
    "\n"
   ]
  },
  {
   "cell_type": "code",
   "execution_count": 49,
   "id": "7056d1a6",
   "metadata": {},
   "outputs": [
    {
     "data": {
      "text/html": [
       "<div>\n",
       "<style scoped>\n",
       "    .dataframe tbody tr th:only-of-type {\n",
       "        vertical-align: middle;\n",
       "    }\n",
       "\n",
       "    .dataframe tbody tr th {\n",
       "        vertical-align: top;\n",
       "    }\n",
       "\n",
       "    .dataframe thead th {\n",
       "        text-align: right;\n",
       "    }\n",
       "</style>\n",
       "<table border=\"1\" class=\"dataframe\">\n",
       "  <thead>\n",
       "    <tr style=\"text-align: right;\">\n",
       "      <th></th>\n",
       "      <th>Symbol</th>\n",
       "      <th>Correlation</th>\n",
       "    </tr>\n",
       "  </thead>\n",
       "  <tbody>\n",
       "    <tr>\n",
       "      <th>0</th>\n",
       "      <td>AAPL</td>\n",
       "      <td>0.422638</td>\n",
       "    </tr>\n",
       "    <tr>\n",
       "      <th>1</th>\n",
       "      <td>MSFT</td>\n",
       "      <td>0.356507</td>\n",
       "    </tr>\n",
       "    <tr>\n",
       "      <th>2</th>\n",
       "      <td>TSLA</td>\n",
       "      <td>-0.304725</td>\n",
       "    </tr>\n",
       "    <tr>\n",
       "      <th>3</th>\n",
       "      <td>NVDA</td>\n",
       "      <td>-0.176158</td>\n",
       "    </tr>\n",
       "  </tbody>\n",
       "</table>\n",
       "</div>"
      ],
      "text/plain": [
       "  Symbol  Correlation\n",
       "0   AAPL     0.422638\n",
       "1   MSFT     0.356507\n",
       "2   TSLA    -0.304725\n",
       "3   NVDA    -0.176158"
      ]
     },
     "execution_count": 49,
     "metadata": {},
     "output_type": "execute_result"
    }
   ],
   "source": [
    "correlation_df"
   ]
  },
  {
   "cell_type": "code",
   "execution_count": 50,
   "id": "06fff652",
   "metadata": {},
   "outputs": [],
   "source": [
    "correlation_df.set_index('Symbol', inplace=True)\n"
   ]
  },
  {
   "cell_type": "code",
   "execution_count": 51,
   "id": "17979327",
   "metadata": {},
   "outputs": [
    {
     "data": {
      "text/html": [
       "<div>\n",
       "<style scoped>\n",
       "    .dataframe tbody tr th:only-of-type {\n",
       "        vertical-align: middle;\n",
       "    }\n",
       "\n",
       "    .dataframe tbody tr th {\n",
       "        vertical-align: top;\n",
       "    }\n",
       "\n",
       "    .dataframe thead th {\n",
       "        text-align: right;\n",
       "    }\n",
       "</style>\n",
       "<table border=\"1\" class=\"dataframe\">\n",
       "  <thead>\n",
       "    <tr style=\"text-align: right;\">\n",
       "      <th></th>\n",
       "      <th>Correlation</th>\n",
       "    </tr>\n",
       "    <tr>\n",
       "      <th>Symbol</th>\n",
       "      <th></th>\n",
       "    </tr>\n",
       "  </thead>\n",
       "  <tbody>\n",
       "    <tr>\n",
       "      <th>AAPL</th>\n",
       "      <td>0.422638</td>\n",
       "    </tr>\n",
       "    <tr>\n",
       "      <th>MSFT</th>\n",
       "      <td>0.356507</td>\n",
       "    </tr>\n",
       "    <tr>\n",
       "      <th>TSLA</th>\n",
       "      <td>-0.304725</td>\n",
       "    </tr>\n",
       "    <tr>\n",
       "      <th>NVDA</th>\n",
       "      <td>-0.176158</td>\n",
       "    </tr>\n",
       "  </tbody>\n",
       "</table>\n",
       "</div>"
      ],
      "text/plain": [
       "        Correlation\n",
       "Symbol             \n",
       "AAPL       0.422638\n",
       "MSFT       0.356507\n",
       "TSLA      -0.304725\n",
       "NVDA      -0.176158"
      ]
     },
     "execution_count": 51,
     "metadata": {},
     "output_type": "execute_result"
    }
   ],
   "source": [
    "correlation_df"
   ]
  },
  {
   "cell_type": "code",
   "execution_count": 23,
   "id": "6c28967e",
   "metadata": {},
   "outputs": [
    {
     "data": {
      "text/html": [
       "<div>\n",
       "<style scoped>\n",
       "    .dataframe tbody tr th:only-of-type {\n",
       "        vertical-align: middle;\n",
       "    }\n",
       "\n",
       "    .dataframe tbody tr th {\n",
       "        vertical-align: top;\n",
       "    }\n",
       "\n",
       "    .dataframe thead th {\n",
       "        text-align: right;\n",
       "    }\n",
       "</style>\n",
       "<table border=\"1\" class=\"dataframe\">\n",
       "  <thead>\n",
       "    <tr style=\"text-align: right;\">\n",
       "      <th></th>\n",
       "      <th>stock_price</th>\n",
       "      <th>cpi_value</th>\n",
       "    </tr>\n",
       "  </thead>\n",
       "  <tbody>\n",
       "    <tr>\n",
       "      <th>stock_price</th>\n",
       "      <td>1.000000</td>\n",
       "      <td>0.422638</td>\n",
       "    </tr>\n",
       "    <tr>\n",
       "      <th>cpi_value</th>\n",
       "      <td>0.422638</td>\n",
       "      <td>1.000000</td>\n",
       "    </tr>\n",
       "  </tbody>\n",
       "</table>\n",
       "</div>"
      ],
      "text/plain": [
       "             stock_price  cpi_value\n",
       "stock_price     1.000000   0.422638\n",
       "cpi_value       0.422638   1.000000"
      ]
     },
     "execution_count": 23,
     "metadata": {},
     "output_type": "execute_result"
    }
   ],
   "source": [
    "correlation_data = calculate_correlation(merged_data_with_cpi, 'AAPL')\n",
    "correlation_data"
   ]
  },
  {
   "cell_type": "code",
   "execution_count": 24,
   "id": "f82956e2",
   "metadata": {},
   "outputs": [],
   "source": [
    "second_item_first_row = correlation_data.iloc[0, 1]\n"
   ]
  },
  {
   "cell_type": "code",
   "execution_count": 25,
   "id": "e7aa7554",
   "metadata": {},
   "outputs": [
    {
     "data": {
      "text/plain": [
       "0.4226379392218521"
      ]
     },
     "execution_count": 25,
     "metadata": {},
     "output_type": "execute_result"
    }
   ],
   "source": [
    "second_item_first_row"
   ]
  },
  {
   "cell_type": "code",
   "execution_count": 22,
   "id": "dacea0d3",
   "metadata": {},
   "outputs": [
    {
     "data": {
      "text/html": [
       "<div>\n",
       "<style scoped>\n",
       "    .dataframe tbody tr th:only-of-type {\n",
       "        vertical-align: middle;\n",
       "    }\n",
       "\n",
       "    .dataframe tbody tr th {\n",
       "        vertical-align: top;\n",
       "    }\n",
       "\n",
       "    .dataframe thead th {\n",
       "        text-align: right;\n",
       "    }\n",
       "</style>\n",
       "<table border=\"1\" class=\"dataframe\">\n",
       "  <thead>\n",
       "    <tr style=\"text-align: right;\">\n",
       "      <th></th>\n",
       "      <th>stock_price</th>\n",
       "      <th>cpi_value</th>\n",
       "    </tr>\n",
       "  </thead>\n",
       "  <tbody>\n",
       "    <tr>\n",
       "      <th>stock_price</th>\n",
       "      <td>1.000000</td>\n",
       "      <td>0.356507</td>\n",
       "    </tr>\n",
       "    <tr>\n",
       "      <th>cpi_value</th>\n",
       "      <td>0.356507</td>\n",
       "      <td>1.000000</td>\n",
       "    </tr>\n",
       "  </tbody>\n",
       "</table>\n",
       "</div>"
      ],
      "text/plain": [
       "             stock_price  cpi_value\n",
       "stock_price     1.000000   0.356507\n",
       "cpi_value       0.356507   1.000000"
      ]
     },
     "execution_count": 22,
     "metadata": {},
     "output_type": "execute_result"
    }
   ],
   "source": [
    "correlation_data = calculate_correlation(merged_data_with_cpi, 'MSFT')\n",
    "correlation_data"
   ]
  },
  {
   "cell_type": "code",
   "execution_count": 23,
   "id": "50e99dd8",
   "metadata": {},
   "outputs": [
    {
     "data": {
      "text/html": [
       "<div>\n",
       "<style scoped>\n",
       "    .dataframe tbody tr th:only-of-type {\n",
       "        vertical-align: middle;\n",
       "    }\n",
       "\n",
       "    .dataframe tbody tr th {\n",
       "        vertical-align: top;\n",
       "    }\n",
       "\n",
       "    .dataframe thead th {\n",
       "        text-align: right;\n",
       "    }\n",
       "</style>\n",
       "<table border=\"1\" class=\"dataframe\">\n",
       "  <thead>\n",
       "    <tr style=\"text-align: right;\">\n",
       "      <th></th>\n",
       "      <th>stock_price</th>\n",
       "      <th>cpi_value</th>\n",
       "    </tr>\n",
       "  </thead>\n",
       "  <tbody>\n",
       "    <tr>\n",
       "      <th>stock_price</th>\n",
       "      <td>1.000000</td>\n",
       "      <td>-0.304725</td>\n",
       "    </tr>\n",
       "    <tr>\n",
       "      <th>cpi_value</th>\n",
       "      <td>-0.304725</td>\n",
       "      <td>1.000000</td>\n",
       "    </tr>\n",
       "  </tbody>\n",
       "</table>\n",
       "</div>"
      ],
      "text/plain": [
       "             stock_price  cpi_value\n",
       "stock_price     1.000000  -0.304725\n",
       "cpi_value      -0.304725   1.000000"
      ]
     },
     "execution_count": 23,
     "metadata": {},
     "output_type": "execute_result"
    }
   ],
   "source": [
    "correlation_data = calculate_correlation(merged_data_with_cpi, 'TSLA')\n",
    "correlation_data"
   ]
  },
  {
   "cell_type": "code",
   "execution_count": 24,
   "id": "c6d0c2a9",
   "metadata": {},
   "outputs": [
    {
     "data": {
      "text/html": [
       "<div>\n",
       "<style scoped>\n",
       "    .dataframe tbody tr th:only-of-type {\n",
       "        vertical-align: middle;\n",
       "    }\n",
       "\n",
       "    .dataframe tbody tr th {\n",
       "        vertical-align: top;\n",
       "    }\n",
       "\n",
       "    .dataframe thead th {\n",
       "        text-align: right;\n",
       "    }\n",
       "</style>\n",
       "<table border=\"1\" class=\"dataframe\">\n",
       "  <thead>\n",
       "    <tr style=\"text-align: right;\">\n",
       "      <th></th>\n",
       "      <th>stock_price</th>\n",
       "      <th>cpi_value</th>\n",
       "    </tr>\n",
       "  </thead>\n",
       "  <tbody>\n",
       "    <tr>\n",
       "      <th>stock_price</th>\n",
       "      <td>1.000000</td>\n",
       "      <td>-0.176158</td>\n",
       "    </tr>\n",
       "    <tr>\n",
       "      <th>cpi_value</th>\n",
       "      <td>-0.176158</td>\n",
       "      <td>1.000000</td>\n",
       "    </tr>\n",
       "  </tbody>\n",
       "</table>\n",
       "</div>"
      ],
      "text/plain": [
       "             stock_price  cpi_value\n",
       "stock_price     1.000000  -0.176158\n",
       "cpi_value      -0.176158   1.000000"
      ]
     },
     "execution_count": 24,
     "metadata": {},
     "output_type": "execute_result"
    }
   ],
   "source": [
    "correlation_data = calculate_correlation(merged_data_with_cpi, 'NVDA')\n",
    "correlation_data"
   ]
  },
  {
   "cell_type": "code",
   "execution_count": null,
   "id": "62342199",
   "metadata": {},
   "outputs": [],
   "source": []
  }
 ],
 "metadata": {
  "kernelspec": {
   "display_name": "Python 3 (ipykernel)",
   "language": "python",
   "name": "python3"
  },
  "language_info": {
   "codemirror_mode": {
    "name": "ipython",
    "version": 3
   },
   "file_extension": ".py",
   "mimetype": "text/x-python",
   "name": "python",
   "nbconvert_exporter": "python",
   "pygments_lexer": "ipython3",
   "version": "3.11.5"
  }
 },
 "nbformat": 4,
 "nbformat_minor": 5
}
